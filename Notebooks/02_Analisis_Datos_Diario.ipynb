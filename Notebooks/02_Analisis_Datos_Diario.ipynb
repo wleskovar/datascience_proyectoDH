{
 "cells": [
  {
   "cell_type": "markdown",
   "id": "pregnant-dinner",
   "metadata": {},
   "source": [
    "## Trabajo final\n",
    "#### Informacion Diaria - 1 año"
   ]
  },
  {
   "cell_type": "code",
   "execution_count": 118,
   "id": "cooked-gates",
   "metadata": {},
   "outputs": [],
   "source": [
    "import pandas as pd\n",
    "import numpy as np\n",
    "import matplotlib.pyplot as plt\n",
    "import seaborn as sns\n",
    "from datetime import datetime\n",
    "import plotly.offline as py\n",
    "import plotly.graph_objs as go\n",
    "from scipy import stats \n",
    "from scipy.stats import norm\n",
    "from numpy import cumsum,  log, polyfit,sqrt,std,subtract\n",
    "from hurst import compute_Hc, random_walk\n",
    "from statsmodels.tsa.stattools import adfuller\n",
    "#from statistics import mean"
   ]
  },
  {
   "cell_type": "code",
   "execution_count": 119,
   "id": "under-announcement",
   "metadata": {},
   "outputs": [],
   "source": [
    "plt.style.use('seaborn-darkgrid')"
   ]
  },
  {
   "cell_type": "markdown",
   "id": "coordinated-bosnia",
   "metadata": {},
   "source": [
    "Obtenemos el dataset de trabajo leyendo el archivo CSV velas_cryptos"
   ]
  },
  {
   "cell_type": "code",
   "execution_count": 120,
   "id": "composite-joshua",
   "metadata": {},
   "outputs": [],
   "source": [
    "\n",
    "ruta= '../Datos/'\n",
    "extencion= '.csv'\n",
    "file= 'velas_cryptos'"
   ]
  },
  {
   "cell_type": "code",
   "execution_count": 121,
   "id": "found-accreditation",
   "metadata": {},
   "outputs": [],
   "source": [
    "def lectura_data(ruta, extencion, archivo):\n",
    "    data= pd.read_csv(ruta+archivo+extencion, low_memory=False)\n",
    "    return data"
   ]
  },
  {
   "cell_type": "code",
   "execution_count": 122,
   "id": "remarkable-assessment",
   "metadata": {},
   "outputs": [],
   "source": [
    "data= lectura_data(ruta, extencion, file)\n"
   ]
  },
  {
   "cell_type": "markdown",
   "id": "impaired-permit",
   "metadata": {},
   "source": [
    "- Estadistica descriptiva\n",
    "- Selecionar bitcoin y rango de fechas para analizar"
   ]
  },
  {
   "cell_type": "code",
   "execution_count": 123,
   "id": "opened-nickname",
   "metadata": {},
   "outputs": [],
   "source": [
    "crypto = 'DOTUSD'\n",
    "fecha_desde = '2010-12-31'\n",
    "fecha_hasta = '2022-01-01'\n"
   ]
  },
  {
   "cell_type": "code",
   "execution_count": 124,
   "id": "prepared-committee",
   "metadata": {},
   "outputs": [
    {
     "name": "stdout",
     "output_type": "stream",
     "text": [
      "<class 'pandas.core.frame.DataFrame'>\n",
      "RangeIndex: 218 entries, 0 to 217\n",
      "Data columns (total 8 columns):\n",
      " #   Column       Non-Null Count  Dtype  \n",
      "---  ------       --------------  -----  \n",
      " 0   timestamp    218 non-null    object \n",
      " 1   open         218 non-null    float64\n",
      " 2   close        218 non-null    float64\n",
      " 3   min          218 non-null    float64\n",
      " 4   max          218 non-null    float64\n",
      " 5   volume       218 non-null    float64\n",
      " 6   volumeQuote  218 non-null    float64\n",
      " 7   crypto       218 non-null    object \n",
      "dtypes: float64(6), object(2)\n",
      "memory usage: 13.8+ KB\n"
     ]
    }
   ],
   "source": [
    "data.info()"
   ]
  },
  {
   "cell_type": "code",
   "execution_count": 125,
   "id": "planned-projector",
   "metadata": {},
   "outputs": [],
   "source": [
    "crypto_mask = np.logical_and(np.logical_and(data.crypto == crypto , data.timestamp > fecha_desde ),\n",
    "                            data.timestamp < fecha_hasta)"
   ]
  },
  {
   "cell_type": "code",
   "execution_count": 126,
   "id": "black-links",
   "metadata": {},
   "outputs": [],
   "source": [
    "df = data[crypto_mask].copy(deep=True)"
   ]
  },
  {
   "cell_type": "code",
   "execution_count": 127,
   "id": "loved-soundtrack",
   "metadata": {},
   "outputs": [
    {
     "data": {
      "text/html": [
       "<div>\n",
       "<style scoped>\n",
       "    .dataframe tbody tr th:only-of-type {\n",
       "        vertical-align: middle;\n",
       "    }\n",
       "\n",
       "    .dataframe tbody tr th {\n",
       "        vertical-align: top;\n",
       "    }\n",
       "\n",
       "    .dataframe thead th {\n",
       "        text-align: right;\n",
       "    }\n",
       "</style>\n",
       "<table border=\"1\" class=\"dataframe\">\n",
       "  <thead>\n",
       "    <tr style=\"text-align: right;\">\n",
       "      <th></th>\n",
       "      <th>index</th>\n",
       "      <th>timestamp</th>\n",
       "      <th>open</th>\n",
       "      <th>close</th>\n",
       "      <th>min</th>\n",
       "      <th>max</th>\n",
       "      <th>volume</th>\n",
       "      <th>volumeQuote</th>\n",
       "      <th>crypto</th>\n",
       "    </tr>\n",
       "  </thead>\n",
       "  <tbody>\n",
       "    <tr>\n",
       "      <th>0</th>\n",
       "      <td>0</td>\n",
       "      <td>2020-08-24T00:00:00.000Z</td>\n",
       "      <td>374.35200</td>\n",
       "      <td>4.74997</td>\n",
       "      <td>4.01261</td>\n",
       "      <td>374.35200</td>\n",
       "      <td>18.42</td>\n",
       "      <td>1.779283e+02</td>\n",
       "      <td>DOTUSD</td>\n",
       "    </tr>\n",
       "    <tr>\n",
       "      <th>1</th>\n",
       "      <td>1</td>\n",
       "      <td>2020-08-25T00:00:00.000Z</td>\n",
       "      <td>4.74994</td>\n",
       "      <td>5.68375</td>\n",
       "      <td>4.74994</td>\n",
       "      <td>48.13000</td>\n",
       "      <td>2938.99</td>\n",
       "      <td>1.544473e+04</td>\n",
       "      <td>DOTUSD</td>\n",
       "    </tr>\n",
       "    <tr>\n",
       "      <th>2</th>\n",
       "      <td>2</td>\n",
       "      <td>2020-08-26T00:00:00.000Z</td>\n",
       "      <td>5.79590</td>\n",
       "      <td>6.09408</td>\n",
       "      <td>5.34673</td>\n",
       "      <td>6.59351</td>\n",
       "      <td>2375.77</td>\n",
       "      <td>1.465552e+04</td>\n",
       "      <td>DOTUSD</td>\n",
       "    </tr>\n",
       "    <tr>\n",
       "      <th>3</th>\n",
       "      <td>3</td>\n",
       "      <td>2020-08-27T00:00:00.000Z</td>\n",
       "      <td>6.22842</td>\n",
       "      <td>5.78400</td>\n",
       "      <td>5.24643</td>\n",
       "      <td>6.88566</td>\n",
       "      <td>3977.13</td>\n",
       "      <td>2.267933e+04</td>\n",
       "      <td>DOTUSD</td>\n",
       "    </tr>\n",
       "    <tr>\n",
       "      <th>4</th>\n",
       "      <td>4</td>\n",
       "      <td>2020-08-28T00:00:00.000Z</td>\n",
       "      <td>5.78450</td>\n",
       "      <td>6.15600</td>\n",
       "      <td>5.78410</td>\n",
       "      <td>6.57400</td>\n",
       "      <td>832.41</td>\n",
       "      <td>5.012611e+03</td>\n",
       "      <td>DOTUSD</td>\n",
       "    </tr>\n",
       "    <tr>\n",
       "      <th>...</th>\n",
       "      <td>...</td>\n",
       "      <td>...</td>\n",
       "      <td>...</td>\n",
       "      <td>...</td>\n",
       "      <td>...</td>\n",
       "      <td>...</td>\n",
       "      <td>...</td>\n",
       "      <td>...</td>\n",
       "      <td>...</td>\n",
       "    </tr>\n",
       "    <tr>\n",
       "      <th>213</th>\n",
       "      <td>213</td>\n",
       "      <td>2021-03-25T00:00:00.000Z</td>\n",
       "      <td>30.29380</td>\n",
       "      <td>29.79318</td>\n",
       "      <td>28.41835</td>\n",
       "      <td>31.20502</td>\n",
       "      <td>42807.28</td>\n",
       "      <td>1.284949e+06</td>\n",
       "      <td>DOTUSD</td>\n",
       "    </tr>\n",
       "    <tr>\n",
       "      <th>214</th>\n",
       "      <td>214</td>\n",
       "      <td>2021-03-26T00:00:00.000Z</td>\n",
       "      <td>29.78067</td>\n",
       "      <td>33.12642</td>\n",
       "      <td>29.57514</td>\n",
       "      <td>33.37215</td>\n",
       "      <td>36225.81</td>\n",
       "      <td>1.123662e+06</td>\n",
       "      <td>DOTUSD</td>\n",
       "    </tr>\n",
       "    <tr>\n",
       "      <th>215</th>\n",
       "      <td>215</td>\n",
       "      <td>2021-03-27T00:00:00.000Z</td>\n",
       "      <td>33.22109</td>\n",
       "      <td>32.61483</td>\n",
       "      <td>31.16397</td>\n",
       "      <td>33.50000</td>\n",
       "      <td>14209.72</td>\n",
       "      <td>4.621782e+05</td>\n",
       "      <td>DOTUSD</td>\n",
       "    </tr>\n",
       "    <tr>\n",
       "      <th>216</th>\n",
       "      <td>216</td>\n",
       "      <td>2021-03-28T00:00:00.000Z</td>\n",
       "      <td>32.59367</td>\n",
       "      <td>32.12221</td>\n",
       "      <td>31.30858</td>\n",
       "      <td>33.21256</td>\n",
       "      <td>11307.46</td>\n",
       "      <td>3.662650e+05</td>\n",
       "      <td>DOTUSD</td>\n",
       "    </tr>\n",
       "    <tr>\n",
       "      <th>217</th>\n",
       "      <td>217</td>\n",
       "      <td>2021-03-29T00:00:00.000Z</td>\n",
       "      <td>32.24225</td>\n",
       "      <td>34.01628</td>\n",
       "      <td>31.79220</td>\n",
       "      <td>34.70758</td>\n",
       "      <td>12032.19</td>\n",
       "      <td>4.065840e+05</td>\n",
       "      <td>DOTUSD</td>\n",
       "    </tr>\n",
       "  </tbody>\n",
       "</table>\n",
       "<p>218 rows × 9 columns</p>\n",
       "</div>"
      ],
      "text/plain": [
       "     index                 timestamp       open     close       min  \\\n",
       "0        0  2020-08-24T00:00:00.000Z  374.35200   4.74997   4.01261   \n",
       "1        1  2020-08-25T00:00:00.000Z    4.74994   5.68375   4.74994   \n",
       "2        2  2020-08-26T00:00:00.000Z    5.79590   6.09408   5.34673   \n",
       "3        3  2020-08-27T00:00:00.000Z    6.22842   5.78400   5.24643   \n",
       "4        4  2020-08-28T00:00:00.000Z    5.78450   6.15600   5.78410   \n",
       "..     ...                       ...        ...       ...       ...   \n",
       "213    213  2021-03-25T00:00:00.000Z   30.29380  29.79318  28.41835   \n",
       "214    214  2021-03-26T00:00:00.000Z   29.78067  33.12642  29.57514   \n",
       "215    215  2021-03-27T00:00:00.000Z   33.22109  32.61483  31.16397   \n",
       "216    216  2021-03-28T00:00:00.000Z   32.59367  32.12221  31.30858   \n",
       "217    217  2021-03-29T00:00:00.000Z   32.24225  34.01628  31.79220   \n",
       "\n",
       "           max    volume   volumeQuote  crypto  \n",
       "0    374.35200     18.42  1.779283e+02  DOTUSD  \n",
       "1     48.13000   2938.99  1.544473e+04  DOTUSD  \n",
       "2      6.59351   2375.77  1.465552e+04  DOTUSD  \n",
       "3      6.88566   3977.13  2.267933e+04  DOTUSD  \n",
       "4      6.57400    832.41  5.012611e+03  DOTUSD  \n",
       "..         ...       ...           ...     ...  \n",
       "213   31.20502  42807.28  1.284949e+06  DOTUSD  \n",
       "214   33.37215  36225.81  1.123662e+06  DOTUSD  \n",
       "215   33.50000  14209.72  4.621782e+05  DOTUSD  \n",
       "216   33.21256  11307.46  3.662650e+05  DOTUSD  \n",
       "217   34.70758  12032.19  4.065840e+05  DOTUSD  \n",
       "\n",
       "[218 rows x 9 columns]"
      ]
     },
     "execution_count": 127,
     "metadata": {},
     "output_type": "execute_result"
    }
   ],
   "source": [
    "df.reset_index()"
   ]
  },
  {
   "cell_type": "code",
   "execution_count": 128,
   "id": "other-glossary",
   "metadata": {},
   "outputs": [],
   "source": [
    "df['timestampI'] =  pd.to_datetime(df.timestamp).dt.date"
   ]
  },
  {
   "cell_type": "code",
   "execution_count": 129,
   "id": "capable-africa",
   "metadata": {},
   "outputs": [],
   "source": [
    "df = df.set_index('timestampI')"
   ]
  },
  {
   "cell_type": "code",
   "execution_count": 130,
   "id": "domestic-cattle",
   "metadata": {},
   "outputs": [],
   "source": [
    "df['Retorno_Aritmetico'] = df['close'].pct_change()"
   ]
  },
  {
   "cell_type": "code",
   "execution_count": 131,
   "id": "expected-eight",
   "metadata": {},
   "outputs": [
    {
     "data": {
      "text/html": [
       "<div>\n",
       "<style scoped>\n",
       "    .dataframe tbody tr th:only-of-type {\n",
       "        vertical-align: middle;\n",
       "    }\n",
       "\n",
       "    .dataframe tbody tr th {\n",
       "        vertical-align: top;\n",
       "    }\n",
       "\n",
       "    .dataframe thead th {\n",
       "        text-align: right;\n",
       "    }\n",
       "</style>\n",
       "<table border=\"1\" class=\"dataframe\">\n",
       "  <thead>\n",
       "    <tr style=\"text-align: right;\">\n",
       "      <th></th>\n",
       "      <th>timestamp</th>\n",
       "      <th>open</th>\n",
       "      <th>close</th>\n",
       "      <th>min</th>\n",
       "      <th>max</th>\n",
       "      <th>volume</th>\n",
       "      <th>volumeQuote</th>\n",
       "      <th>crypto</th>\n",
       "      <th>Retorno_Aritmetico</th>\n",
       "    </tr>\n",
       "    <tr>\n",
       "      <th>timestampI</th>\n",
       "      <th></th>\n",
       "      <th></th>\n",
       "      <th></th>\n",
       "      <th></th>\n",
       "      <th></th>\n",
       "      <th></th>\n",
       "      <th></th>\n",
       "      <th></th>\n",
       "      <th></th>\n",
       "    </tr>\n",
       "  </thead>\n",
       "  <tbody>\n",
       "    <tr>\n",
       "      <th>2020-08-24</th>\n",
       "      <td>2020-08-24T00:00:00.000Z</td>\n",
       "      <td>374.35200</td>\n",
       "      <td>4.74997</td>\n",
       "      <td>4.01261</td>\n",
       "      <td>374.35200</td>\n",
       "      <td>18.42</td>\n",
       "      <td>1.779283e+02</td>\n",
       "      <td>DOTUSD</td>\n",
       "      <td>NaN</td>\n",
       "    </tr>\n",
       "    <tr>\n",
       "      <th>2020-08-25</th>\n",
       "      <td>2020-08-25T00:00:00.000Z</td>\n",
       "      <td>4.74994</td>\n",
       "      <td>5.68375</td>\n",
       "      <td>4.74994</td>\n",
       "      <td>48.13000</td>\n",
       "      <td>2938.99</td>\n",
       "      <td>1.544473e+04</td>\n",
       "      <td>DOTUSD</td>\n",
       "      <td>0.196587</td>\n",
       "    </tr>\n",
       "    <tr>\n",
       "      <th>2020-08-26</th>\n",
       "      <td>2020-08-26T00:00:00.000Z</td>\n",
       "      <td>5.79590</td>\n",
       "      <td>6.09408</td>\n",
       "      <td>5.34673</td>\n",
       "      <td>6.59351</td>\n",
       "      <td>2375.77</td>\n",
       "      <td>1.465552e+04</td>\n",
       "      <td>DOTUSD</td>\n",
       "      <td>0.072194</td>\n",
       "    </tr>\n",
       "    <tr>\n",
       "      <th>2020-08-27</th>\n",
       "      <td>2020-08-27T00:00:00.000Z</td>\n",
       "      <td>6.22842</td>\n",
       "      <td>5.78400</td>\n",
       "      <td>5.24643</td>\n",
       "      <td>6.88566</td>\n",
       "      <td>3977.13</td>\n",
       "      <td>2.267933e+04</td>\n",
       "      <td>DOTUSD</td>\n",
       "      <td>-0.050882</td>\n",
       "    </tr>\n",
       "    <tr>\n",
       "      <th>2020-08-28</th>\n",
       "      <td>2020-08-28T00:00:00.000Z</td>\n",
       "      <td>5.78450</td>\n",
       "      <td>6.15600</td>\n",
       "      <td>5.78410</td>\n",
       "      <td>6.57400</td>\n",
       "      <td>832.41</td>\n",
       "      <td>5.012611e+03</td>\n",
       "      <td>DOTUSD</td>\n",
       "      <td>0.064315</td>\n",
       "    </tr>\n",
       "    <tr>\n",
       "      <th>...</th>\n",
       "      <td>...</td>\n",
       "      <td>...</td>\n",
       "      <td>...</td>\n",
       "      <td>...</td>\n",
       "      <td>...</td>\n",
       "      <td>...</td>\n",
       "      <td>...</td>\n",
       "      <td>...</td>\n",
       "      <td>...</td>\n",
       "    </tr>\n",
       "    <tr>\n",
       "      <th>2021-03-25</th>\n",
       "      <td>2021-03-25T00:00:00.000Z</td>\n",
       "      <td>30.29380</td>\n",
       "      <td>29.79318</td>\n",
       "      <td>28.41835</td>\n",
       "      <td>31.20502</td>\n",
       "      <td>42807.28</td>\n",
       "      <td>1.284949e+06</td>\n",
       "      <td>DOTUSD</td>\n",
       "      <td>-0.014886</td>\n",
       "    </tr>\n",
       "    <tr>\n",
       "      <th>2021-03-26</th>\n",
       "      <td>2021-03-26T00:00:00.000Z</td>\n",
       "      <td>29.78067</td>\n",
       "      <td>33.12642</td>\n",
       "      <td>29.57514</td>\n",
       "      <td>33.37215</td>\n",
       "      <td>36225.81</td>\n",
       "      <td>1.123662e+06</td>\n",
       "      <td>DOTUSD</td>\n",
       "      <td>0.111879</td>\n",
       "    </tr>\n",
       "    <tr>\n",
       "      <th>2021-03-27</th>\n",
       "      <td>2021-03-27T00:00:00.000Z</td>\n",
       "      <td>33.22109</td>\n",
       "      <td>32.61483</td>\n",
       "      <td>31.16397</td>\n",
       "      <td>33.50000</td>\n",
       "      <td>14209.72</td>\n",
       "      <td>4.621782e+05</td>\n",
       "      <td>DOTUSD</td>\n",
       "      <td>-0.015444</td>\n",
       "    </tr>\n",
       "    <tr>\n",
       "      <th>2021-03-28</th>\n",
       "      <td>2021-03-28T00:00:00.000Z</td>\n",
       "      <td>32.59367</td>\n",
       "      <td>32.12221</td>\n",
       "      <td>31.30858</td>\n",
       "      <td>33.21256</td>\n",
       "      <td>11307.46</td>\n",
       "      <td>3.662650e+05</td>\n",
       "      <td>DOTUSD</td>\n",
       "      <td>-0.015104</td>\n",
       "    </tr>\n",
       "    <tr>\n",
       "      <th>2021-03-29</th>\n",
       "      <td>2021-03-29T00:00:00.000Z</td>\n",
       "      <td>32.24225</td>\n",
       "      <td>34.01628</td>\n",
       "      <td>31.79220</td>\n",
       "      <td>34.70758</td>\n",
       "      <td>12032.19</td>\n",
       "      <td>4.065840e+05</td>\n",
       "      <td>DOTUSD</td>\n",
       "      <td>0.058964</td>\n",
       "    </tr>\n",
       "  </tbody>\n",
       "</table>\n",
       "<p>218 rows × 9 columns</p>\n",
       "</div>"
      ],
      "text/plain": [
       "                           timestamp       open     close       min  \\\n",
       "timestampI                                                            \n",
       "2020-08-24  2020-08-24T00:00:00.000Z  374.35200   4.74997   4.01261   \n",
       "2020-08-25  2020-08-25T00:00:00.000Z    4.74994   5.68375   4.74994   \n",
       "2020-08-26  2020-08-26T00:00:00.000Z    5.79590   6.09408   5.34673   \n",
       "2020-08-27  2020-08-27T00:00:00.000Z    6.22842   5.78400   5.24643   \n",
       "2020-08-28  2020-08-28T00:00:00.000Z    5.78450   6.15600   5.78410   \n",
       "...                              ...        ...       ...       ...   \n",
       "2021-03-25  2021-03-25T00:00:00.000Z   30.29380  29.79318  28.41835   \n",
       "2021-03-26  2021-03-26T00:00:00.000Z   29.78067  33.12642  29.57514   \n",
       "2021-03-27  2021-03-27T00:00:00.000Z   33.22109  32.61483  31.16397   \n",
       "2021-03-28  2021-03-28T00:00:00.000Z   32.59367  32.12221  31.30858   \n",
       "2021-03-29  2021-03-29T00:00:00.000Z   32.24225  34.01628  31.79220   \n",
       "\n",
       "                  max    volume   volumeQuote  crypto  Retorno_Aritmetico  \n",
       "timestampI                                                                 \n",
       "2020-08-24  374.35200     18.42  1.779283e+02  DOTUSD                 NaN  \n",
       "2020-08-25   48.13000   2938.99  1.544473e+04  DOTUSD            0.196587  \n",
       "2020-08-26    6.59351   2375.77  1.465552e+04  DOTUSD            0.072194  \n",
       "2020-08-27    6.88566   3977.13  2.267933e+04  DOTUSD           -0.050882  \n",
       "2020-08-28    6.57400    832.41  5.012611e+03  DOTUSD            0.064315  \n",
       "...               ...       ...           ...     ...                 ...  \n",
       "2021-03-25   31.20502  42807.28  1.284949e+06  DOTUSD           -0.014886  \n",
       "2021-03-26   33.37215  36225.81  1.123662e+06  DOTUSD            0.111879  \n",
       "2021-03-27   33.50000  14209.72  4.621782e+05  DOTUSD           -0.015444  \n",
       "2021-03-28   33.21256  11307.46  3.662650e+05  DOTUSD           -0.015104  \n",
       "2021-03-29   34.70758  12032.19  4.065840e+05  DOTUSD            0.058964  \n",
       "\n",
       "[218 rows x 9 columns]"
      ]
     },
     "execution_count": 131,
     "metadata": {},
     "output_type": "execute_result"
    }
   ],
   "source": [
    "df"
   ]
  },
  {
   "cell_type": "code",
   "execution_count": 132,
   "id": "answering-frank",
   "metadata": {},
   "outputs": [],
   "source": [
    "df = df.iloc[1:].copy(deep=True)"
   ]
  },
  {
   "cell_type": "code",
   "execution_count": 133,
   "id": "occupational-distinction",
   "metadata": {},
   "outputs": [],
   "source": [
    "(mu, sigma) = stats.norm.fit(df.Retorno_Aritmetico)"
   ]
  },
  {
   "cell_type": "code",
   "execution_count": 134,
   "id": "guilty-hampton",
   "metadata": {},
   "outputs": [
    {
     "name": "stderr",
     "output_type": "stream",
     "text": [
      "/Users/maruiz/opt/anaconda3/envs/prueba/lib/python3.7/site-packages/seaborn/distributions.py:2557: FutureWarning:\n",
      "\n",
      "`distplot` is a deprecated function and will be removed in a future version. Please adapt your code to use either `displot` (a figure-level function with similar flexibility) or `histplot` (an axes-level function for histograms).\n",
      "\n"
     ]
    },
    {
     "data": {
      "text/plain": [
       "<matplotlib.legend.Legend at 0x7f8670c8fbd0>"
      ]
     },
     "execution_count": 134,
     "metadata": {},
     "output_type": "execute_result"
    },
    {
     "data": {
      "image/png": "[encoded data removed]",
      "text/plain": [
       "<Figure size 1080x576 with 1 Axes>"
      ]
     },
     "metadata": {},
     "output_type": "display_data"
    }
   ],
   "source": [
    "plt.figure(figsize=(15,8))\n",
    "sns.set(color_codes=True)\n",
    "ax = sns.distplot(df.Retorno_Aritmetico,\n",
    "                  bins=100,kde=False,\n",
    "                  fit=stats.norm,color='green')\n",
    "\n",
    "plt.title('Distribucion historica de retornos diarios', fontsize=16)\n",
    "plt.ylabel('Frecuencia')\n",
    "plt.legend(['Distribucion normal . fit ($\\mu=${0:.2g}, $\\sigma=${1:2f})'.format(mu, sigma),\n",
    "            'Distribucion R_Asimetricos'])\n"
   ]
  },
  {
   "cell_type": "code",
   "execution_count": 135,
   "id": "existing-infection",
   "metadata": {},
   "outputs": [
    {
     "data": {
      "text/plain": [
       "34.01628"
      ]
     },
     "execution_count": 135,
     "metadata": {},
     "output_type": "execute_result"
    }
   ],
   "source": [
    "df.close.iloc[-1]"
   ]
  },
  {
   "cell_type": "code",
   "execution_count": 136,
   "id": "delayed-synthesis",
   "metadata": {},
   "outputs": [
    {
     "name": "stdout",
     "output_type": "stream",
     "text": [
      "==================================================\n",
      "> tasa de crecimiento anual compuesto 1931.9 %\n",
      "> Buy & Hold 498.48 %\n",
      "> Máximo drawdown historico -42.05 %\n",
      "> Media Diaria  1.1873 %\n",
      "> Desviacion tipica diaria  7.7140 %\n",
      "> Máximo perdida diario  -22.00 %\n",
      "> Máximo beneficio diario  37.474 %\n",
      "> Dias analizados  217 dias\n",
      "==================================================\n",
      "> Coeficiente de Asimetria  1.4857\n",
      "> Curtosis  493.75\n",
      "> VAR modelo gaussiano NC-95% -11.47 %\n",
      "> VAR modelo gaussiano NC-99% -16.71 %\n",
      "> VAR modelo gaussiano NC-99.7% -19.96 %\n",
      "> VAR modelo Historico NC-95% -9.699 %\n",
      "> VAR modelo Historico NC-99% -11.53 %\n",
      "> VAR modelo Historico NC-99.7% -15.70 %\n"
     ]
    }
   ],
   "source": [
    "Años = df.Retorno_Aritmetico.count()/ 365.25\n",
    "CAGR = (df.close.iloc[-1] / df.close.iloc[0]) ** (1 / Años) -1 \n",
    "print(50 *'=')\n",
    "print('> tasa de crecimiento anual compuesto', '%.6s' % (100 * CAGR),'%')\n",
    "print('> Buy & Hold','%.6s' % (100 *((df.close.iloc[-1] - \n",
    "                                     df.close.iloc[0]) /\n",
    "                                     df.close.iloc[0])),'%')\n",
    "Maximo_Anterior =  df.close.cummax()\n",
    "drawdowns = 100 * ((df.close - Maximo_Anterior)/ Maximo_Anterior)\n",
    "DD = pd.DataFrame({'Close':df.close,\n",
    "                  'Previous Peak':Maximo_Anterior,\n",
    "                  'DrawDown':drawdowns})\n",
    "print('> Máximo drawdown historico','%.6s' % np.min(DD['DrawDown']),'%')\n",
    "print('> Media Diaria ','%.6s' % (100*df.Retorno_Aritmetico.mean()),'%')\n",
    "print('> Desviacion tipica diaria ', '%.6s' % (100 * df.Retorno_Aritmetico.std(ddof=1)),'%')\n",
    "print('> Máximo perdida diario ','%.6s' % (100 * df.Retorno_Aritmetico.min()),'%')\n",
    "print('> Máximo beneficio diario ','%.6s' % (100 * df.Retorno_Aritmetico.max()),'%')\n",
    "print('> Dias analizados ','%.6s' % (df.Retorno_Aritmetico.count()),'dias')\n",
    "print(50*'=')\n",
    "print('> Coeficiente de Asimetria ','%.6s' % (df.Retorno_Aritmetico.skew()))\n",
    "print('> Curtosis ','%.6s' % (100 * df.Retorno_Aritmetico.kurt()))\n",
    "print('> VAR modelo gaussiano NC-95%','%.6s' % (100 * norm.ppf(0.05,mu,sigma)),'%')\n",
    "print('> VAR modelo gaussiano NC-99%','%.6s' % (100 * norm.ppf(0.01,mu,sigma)),'%')\n",
    "print('> VAR modelo gaussiano NC-99.7%','%.6s' % (100 * norm.ppf(0.003,mu,sigma)),'%')\n",
    "\n",
    "print('> VAR modelo Historico NC-95%','%.6s' % (100 * np.percentile(df.Retorno_Aritmetico,5)),'%')\n",
    "print('> VAR modelo Historico NC-99%','%.6s' % (100 * np.percentile(df.Retorno_Aritmetico,1)),'%')\n",
    "print('> VAR modelo Historico NC-99.7%','%.6s' % (100 * np.percentile(df.Retorno_Aritmetico,0.3)),'%')\n"
   ]
  },
  {
   "cell_type": "markdown",
   "id": "driving-crowd",
   "metadata": {},
   "source": [
    "- Analisis de volatilidad"
   ]
  },
  {
   "cell_type": "code",
   "execution_count": 137,
   "id": "virtual-mirror",
   "metadata": {},
   "outputs": [],
   "source": [
    "pd.set_option('mode.chained_assignment', None)"
   ]
  },
  {
   "cell_type": "code",
   "execution_count": 138,
   "id": "occupied-tower",
   "metadata": {},
   "outputs": [],
   "source": [
    "df['volatilidad_14_dias_historica'] = 100 * df.Retorno_Aritmetico.rolling(30).std()"
   ]
  },
  {
   "cell_type": "code",
   "execution_count": 139,
   "id": "grand-territory",
   "metadata": {},
   "outputs": [],
   "source": [
    "df['volatilidad_14_dias_anualizada'] = df.volatilidad_14_dias_historica * ((365)**0.5)"
   ]
  },
  {
   "cell_type": "code",
   "execution_count": 140,
   "id": "buried-project",
   "metadata": {},
   "outputs": [],
   "source": [
    "df['sma_365_volatilidad_anualizada'] = df.volatilidad_14_dias_anualizada.rolling(365).mean()"
   ]
  },
  {
   "cell_type": "code",
   "execution_count": 141,
   "id": "middle-acquisition",
   "metadata": {},
   "outputs": [
    {
     "data": {
      "image/png": "[encoded data removed]",
      "text/plain": [
       "<Figure size 1080x576 with 2 Axes>"
      ]
     },
     "metadata": {},
     "output_type": "display_data"
    }
   ],
   "source": [
    "fig, ax1 = plt.subplots(figsize=(15,8))\n",
    "ax2 = ax1.twinx()\n",
    "volatilityline = ax1.plot(df.volatilidad_14_dias_anualizada,\n",
    "                          'orange',linestyle='--',label='Vol. 30 dias Anualizada')\n",
    "smaline = ax1.plot(df.sma_365_volatilidad_anualizada,\n",
    "                          'green',linestyle='-',label='SMA 365 Vol. Anualizada')\n",
    "closeline = ax2.plot(df.close,\n",
    "                          'black',linestyle='solid',label='close')\n",
    "\n",
    "plt.title('Evolucion de cierre y volatilidad', fontsize=16)\n",
    "ax1.set_xlabel('fecha')\n",
    "ax1.set_ylabel('volatilidad anualizada',color='black')\n",
    "ax2.set_ylabel('precio de cierre',color = 'black')\n",
    "\n",
    "plotlines = volatilityline + smaline + closeline\n",
    "\n",
    "labels = [line.get_label() for line in plotlines]\n",
    "\n",
    "ax1.legend(plotlines,labels,loc='upper left', frameon=True, borderpad=1)\n",
    "ax1.grid(True)\n",
    "ax2.grid(False)\n",
    "plt.show()"
   ]
  },
  {
   "cell_type": "code",
   "execution_count": 142,
   "id": "similar-editing",
   "metadata": {},
   "outputs": [
    {
     "name": "stdout",
     "output_type": "stream",
     "text": [
      "> Volatilidad Anualizada: 147.37 %\n",
      "> La mínima volatilidad anualizada fue de: 73.011 % registrada el: 2020-10-22\n",
      "> La Máxima volatilidad anualizada fue de: 267.36 % registrada el: 2021-01-21\n",
      "> Rango medio dias negativos 19.5 %\n",
      "> Rango medio dias positivos 21.4 %\n",
      "> Ratio Negativos/Positivos: 0.91 %\n"
     ]
    }
   ],
   "source": [
    "#Volatilidad anualizada\n",
    "VAM = ((365) ** 0.5) * (100 * df.Retorno_Aritmetico.std())\n",
    "print('> Volatilidad Anualizada:', '%.6s'  % VAM, '%')\n",
    "Fecha_Minima_Volatilidad = df.volatilidad_14_dias_anualizada[df.volatilidad_14_dias_anualizada == \n",
    "                                                             df.volatilidad_14_dias_anualizada.min()].index.tolist() \n",
    "Fecha_Maxima_Volatilidad = df.volatilidad_14_dias_anualizada[df.volatilidad_14_dias_anualizada == \n",
    "                                                             df.volatilidad_14_dias_anualizada.max()].index.tolist() \n",
    "print('> La mínima volatilidad anualizada fue de:','%.6s' % df.volatilidad_14_dias_anualizada.min() ,'%',\n",
    "     'registrada el:', Fecha_Minima_Volatilidad[0])\n",
    "print('> La Máxima volatilidad anualizada fue de:','%.6s' % df.volatilidad_14_dias_anualizada.max() ,'%',\n",
    "     'registrada el:', Fecha_Maxima_Volatilidad[0])\n",
    "\n",
    "# promedio sobre el rango porcentual de dias negativos\n",
    "df['Dias_Negativos'] = np.where(df.Retorno_Aritmetico < 0, 100*(df['max'] - df['min']) / df['min'],0)\n",
    "dias_negativos = df.loc[df.Dias_Negativos !=0]\n",
    "DN = dias_negativos.Dias_Negativos.mean()\n",
    "print('> Rango medio dias negativos','%.4s' % DN,'%')\n",
    "\n",
    "# promedio sobre el rango porcentual de dias Positivos\n",
    "df['Dias_Positivos'] = np.where(df.Retorno_Aritmetico > 0, 100*(df['max'] - df['min']) / df['min'],0)\n",
    "dias_positivos = df.loc[df.Dias_Positivos !=0]\n",
    "DP = dias_positivos.Dias_Positivos.mean()\n",
    "print('> Rango medio dias positivos','%.4s' % DP,'%')\n",
    "\n",
    "print('> Ratio Negativos/Positivos:','%.4s' % (DN/DP), '%')"
   ]
  },
  {
   "cell_type": "code",
   "execution_count": 143,
   "id": "early-orchestra",
   "metadata": {},
   "outputs": [
    {
     "data": {
      "text/plain": [
       "[datetime.date(2020, 10, 22)]"
      ]
     },
     "execution_count": 143,
     "metadata": {},
     "output_type": "execute_result"
    }
   ],
   "source": [
    "Fecha_Minima_Volatilidad"
   ]
  },
  {
   "cell_type": "code",
   "execution_count": null,
   "id": "starting-brunswick",
   "metadata": {},
   "outputs": [],
   "source": []
  },
  {
   "cell_type": "markdown",
   "id": "tropical-memory",
   "metadata": {},
   "source": [
    "- Aplicamos el test de Fuller"
   ]
  },
  {
   "cell_type": "code",
   "execution_count": 144,
   "id": "nonprofit-killing",
   "metadata": {},
   "outputs": [],
   "source": [
    "adf = adfuller(df.close, autolag='AIC')"
   ]
  },
  {
   "cell_type": "code",
   "execution_count": 145,
   "id": "disabled-given",
   "metadata": {},
   "outputs": [
    {
     "name": "stdout",
     "output_type": "stream",
     "text": [
      "el T-Test es: -0.46007402072075687\n"
     ]
    }
   ],
   "source": [
    "print('el T-Test es:',adf[0])"
   ]
  },
  {
   "cell_type": "code",
   "execution_count": 146,
   "id": "automotive-serve",
   "metadata": {},
   "outputs": [
    {
     "name": "stdout",
     "output_type": "stream",
     "text": [
      "el P-Value es: 0.8995751303336419\n"
     ]
    }
   ],
   "source": [
    "print('el P-Value es:',adf[1])"
   ]
  },
  {
   "cell_type": "code",
   "execution_count": 147,
   "id": "younger-carter",
   "metadata": {},
   "outputs": [
    {
     "name": "stdout",
     "output_type": "stream",
     "text": [
      "Valores Criticos: {'1%': -3.4624988216864776, '5%': -2.8756749365852587, '10%': -2.5743041549627677}\n"
     ]
    }
   ],
   "source": [
    "print('Valores Criticos:',adf[4])"
   ]
  },
  {
   "cell_type": "code",
   "execution_count": null,
   "id": "wireless-dynamics",
   "metadata": {},
   "outputs": [],
   "source": []
  },
  {
   "cell_type": "markdown",
   "id": "headed-nebraska",
   "metadata": {},
   "source": [
    "- El resultado indica con claridad que la serie NO es estacionaria"
   ]
  },
  {
   "cell_type": "markdown",
   "id": "floating-center",
   "metadata": {},
   "source": [
    "- Exponente de Hurst\n",
    "    - Si > 0.5 autocorrelacionado directo\n",
    "    - Si = 0.5 Movimiento browniano\n",
    "    - Si < 0.5 autocorrelacionado inverso.... si esta subiendo, va a bajar"
   ]
  },
  {
   "cell_type": "code",
   "execution_count": 163,
   "id": "dramatic-dakota",
   "metadata": {},
   "outputs": [],
   "source": [
    "def hurst(ts):\n",
    "    largo =ts.shape[0]\n",
    "    lags = range(2,min(20,(largo - 1)))\n",
    "    tau = [sqrt(std(subtract(ts[lag:].reset_index(),ts[:-lag].reset_index()))) for lag in lags]   \n",
    "    poly = polyfit(log(lags),log(tau),1)    \n",
    "    return poly[0]**2.0"
   ]
  },
  {
   "cell_type": "code",
   "execution_count": 164,
   "id": "residential-shopper",
   "metadata": {},
   "outputs": [
    {
     "name": "stdout",
     "output_type": "stream",
     "text": [
      "timestampI\n",
      "2020-08-25     5.68375\n",
      "2020-08-26     6.09408\n",
      "2020-08-27     5.78400\n",
      "2020-08-28     6.15600\n",
      "2020-08-29     6.40310\n",
      "                ...   \n",
      "2021-03-25    29.79318\n",
      "2021-03-26    33.12642\n",
      "2021-03-27    32.61483\n",
      "2021-03-28    32.12221\n",
      "2021-03-29    34.01628\n",
      "Name: close, Length: 217, dtype: float64\n",
      "> Hurst Exponent:[0.05749264]\n"
     ]
    }
   ],
   "source": [
    "print(df.close)\n",
    "h = hurst(df.close)\n",
    "print(f'> Hurst Exponent:{h}')"
   ]
  },
  {
   "cell_type": "code",
   "execution_count": 165,
   "id": "invisible-fourth",
   "metadata": {},
   "outputs": [],
   "source": [
    "def plot_hurst(H,c,data):\n",
    "    f, ax = plt.subplots()\n",
    "    ax.plot(data[0], c*data[0]**H, color=\"deepskyblue\")\n",
    "    ax.scatter(data[0], data[1], color=\"purple\")\n",
    "    ax.set_xscale('log')\n",
    "    ax.set_yscale('log')\n",
    "    ax.set_xlabel('Time interval')\n",
    "    ax.set_ylabel('R/S ratio')\n",
    "    ax.grid(True)\n",
    "    plt.show()\n",
    "    print(\"H={:.4f}, c={:.4f}\".format(H,c))"
   ]
  },
  {
   "cell_type": "code",
   "execution_count": 166,
   "id": "metric-export",
   "metadata": {},
   "outputs": [
    {
     "data": {
      "image/png": "[encoded data removed]",
      "text/plain": [
       "<Figure size 432x288 with 1 Axes>"
      ]
     },
     "metadata": {},
     "output_type": "display_data"
    },
    {
     "name": "stdout",
     "output_type": "stream",
     "text": [
      "H=0.0560, c=218.8543\n"
     ]
    }
   ],
   "source": [
    "H, c, data = compute_Hc(df.close, kind='change', simplified=True)\n",
    "plot_hurst(H,c,data)"
   ]
  },
  {
   "cell_type": "markdown",
   "id": "motivated-danger",
   "metadata": {},
   "source": [
    "- Analizamos las variaciones del coeficiente de Hurst a lo largo del tiempo en periodos trimestrales\n"
   ]
  },
  {
   "cell_type": "code",
   "execution_count": 168,
   "id": "informed-recognition",
   "metadata": {},
   "outputs": [
    {
     "name": "stdout",
     "output_type": "stream",
     "text": [
      "Media del exponente hurst (H): [0.00696657]\n"
     ]
    }
   ],
   "source": [
    "MyHValues = []\n",
    "hurstDF =pd.DataFrame(columns=['H1'])\n",
    "\n",
    "Bloque_Datos = 30\n",
    "Start = 0\n",
    "Fin = df.shape[0]\n",
    "End = Bloque_Datos\n",
    "\n",
    "while Start < Fin:\n",
    "    hurstDF = df.close[Start:End] \n",
    "    MyHValues.append(hurst(hurstDF))\n",
    "    Start =Start + Bloque_Datos\n",
    "    End   = End + Bloque_Datos\n",
    "   \n",
    "\n",
    "print(f\"Media del exponente hurst (H): {(pd.Series(MyHValues).mean())}\")\n"
   ]
  },
  {
   "cell_type": "code",
   "execution_count": 169,
   "id": "numeric-pharmaceutical",
   "metadata": {},
   "outputs": [
    {
     "data": {
      "text/plain": [
       "[]"
      ]
     },
     "execution_count": 169,
     "metadata": {},
     "output_type": "execute_result"
    },
    {
     "data": {
      "image/png": "[encoded data removed]",
      "text/plain": [
       "<Figure size 1080x576 with 1 Axes>"
      ]
     },
     "metadata": {},
     "output_type": "display_data"
    }
   ],
   "source": [
    "plt.figure(figsize=(15,8))\n",
    "plt.plot(MyHValues,label='Exponente de Hurst')\n",
    "plt.plot(MyHValues,'ro')\n",
    "plt.axhline(pd.Series(MyHValues).mean(),color='red',linestyle='dashed',label='Media del Exponente Hurst')\n",
    "#plt.axhline(y=0.5,color='black',linestyle='solid',label='Movimiento Browniano')\n",
    "plt.title('Coeficiente de Hurst para periodos de:'+ str(Bloque_Datos) + ' unidades(dias)', fontsize=16)\n",
    "plt.ylabel('Coeficiente Hurst', fontsize=14)\n",
    "plt.xlabel('Periodos',fontsize=14)\n",
    "plt.legend(loc= 'upper left',frameon=True,borderpad=1)\n",
    "plt.plot()"
   ]
  },
  {
   "cell_type": "markdown",
   "id": "elementary-finland",
   "metadata": {},
   "source": [
    "- De acuerdo al resultado del analisis del exponente de Hurst, tenemos una tendencia de reversion a la media con autocorrelacion negativa , por lo que en nuestros analisis debemos considerar modelos que tiendan a la reversion a la media"
   ]
  },
  {
   "cell_type": "code",
   "execution_count": null,
   "id": "regulation-telescope",
   "metadata": {},
   "outputs": [],
   "source": [
    "\n"
   ]
  },
  {
   "cell_type": "code",
   "execution_count": null,
   "id": "paperback-moral",
   "metadata": {},
   "outputs": [],
   "source": []
  }
 ],
 "metadata": {
  "kernelspec": {
   "display_name": "Python 3",
   "language": "python",
   "name": "python3"
  },
  "language_info": {
   "codemirror_mode": {
    "name": "ipython",
    "version": 3
   },
   "file_extension": ".py",
   "mimetype": "text/x-python",
   "name": "python",
   "nbconvert_exporter": "python",
   "pygments_lexer": "ipython3",
   "version": "3.7.10"
  }
 },
 "nbformat": 4,
 "nbformat_minor": 5
}
