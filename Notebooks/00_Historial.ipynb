{
 "cells": [
  {
   "cell_type": "markdown",
   "id": "9370c54d",
   "metadata": {},
   "source": [
    "## Trabajo final DH\n",
    "\n",
    "### **Notebooks**\n",
    "\n",
    "[01_API_HitBTC](./01_API_HitBTC.ipynb) :\n",
    "    \n",
    "    Esta notebook es la encargada de obtener los datos que contienen las velas de las criptomonedas Bitcoin y Ethereum.\n",
    "    \n",
    "    Los datos se obtienen de la API del exchanges HitBTC que es uno de los mas grandes y mas liquidos. Solo trabaja con mercados spot (contado) y opera con casi 400 criptomonedas.\n",
    "    \n",
    "    Que es una vela: En Economía el gráfico de velas se trata de un tipo de gráfico muy utilizado en el análisis técnico bursátil que refleja: El precio de apertura de un valor. El precio de cierre de un valor. El máximo y el mínimo que ha encontrado ese valor, adicionalmente datos sobre el volumen operado. En este caso de la API se recuperan los datos que se utilizan para definir una vela.\n",
    "    \n",
    "    Documentacion de la API para obtener los datos de la vela (candles) https://api.demo.hitbtc.com/#candles\n",
    "    \n",
    "    Se pueden obtener diferentes datos utilizando diferentes parametros, en el caso de la funcion de la noteboks de referencia se obtienen los datos para Bitcoin y Ethereum de 1000 dias.\n",
    "    \n",
    "    Con los datos extraidos de HitBTC a traves de la API, se graba un archivo CVS en el directorio Datos, este sera el dataset de trabajo.\n",
    "    \n",
    "    \n",
    "    \n",
    "    "
   ]
  },
  {
   "cell_type": "markdown",
   "id": "96fc4a1e",
   "metadata": {},
   "source": [
    "[02 Análisis de datos y caracteristicas de la distribucion y serie temporal](./02_ANALISIS_DATOS.ipynb)\n",
    "    \n",
    "    Esta notebook realiza los analisis de forma de la serie temporal, para determinar si la extraccion del paso anterior corresponde con una distribucion normal o no, realizar los test de Fuller, Hurst y otros a efectos de determinar su estacionalidad y sus tendencias de autocorrelación\n",
    "    "
   ]
  },
  {
   "cell_type": "markdown",
   "id": "0e2e6f14",
   "metadata": {},
   "source": [
    "[03 Análisis temporal, etapa 1](./03_ANALISIS_TIEMPO.ipynb)\n",
    "    \n",
    "    En esta notebook exploramos distintas alternativas para aproximar y pronosticar la serie temporal. \n",
    "    Entre las pruebas realizadas tenemos:\n",
    "    \n",
    "    - Mean\n",
    "    - Random Walk\n",
    "    - LinearTrend\n",
    "    - QuadraticTrend\n",
    "    - Transf Log\n",
    "    - Simple Smoothing\n",
    "    \n",
    "    para periodos por dia y cada 30 minutos.\n",
    "    "
   ]
  },
  {
   "cell_type": "markdown",
   "id": "ea442d7d",
   "metadata": {},
   "source": [
    "[04 Estimador Custom para proceso de Restorno_Aritmetico](./CUSTOM_ESTIMATOR.ipynb)\n",
    "\n",
    "  Debido a los resultados obtenidos, decidimos analizar el coeficiente de cambio entre observaciones y dejar de  pronosticar el valor de cierre de la cripto.\n",
    "  La estrategia es pronosticar cual va a ser el signo del crecimiento de la siguiente observación\n",
    "  Se escribió la clase 'CryptoClassEstimator.py' que resuleve el algoritmo que busca una secuencia de n-observaciones en el pasado, que se la más parecida a las n-observaciones sobre las cuales quiero estimar el siguiente periodo-n\n",
    "  Las observaciones pueden ser dias, horas, minutos,  n se refiere a cuantas horas/dias/minutos quiero analizar en conjunto.\n",
    " La clase es derivada de los estimadores de sci-kit, por lo que puede ser utilizada por pipelines\n",
    " 04_CUSTOM_ESTIMATOR hace uso de pielines y de pickle para fitear y guardar el modelo estimado, y concluye que:\n",
    "    - 1 Cuantas mas observaciones secuenciales utilizo, mejor prediccion obtengo (accuracy)\n",
    "    - 2 Cuantas más iteraciones realizo sobre una secuencia, más disminuye la variancia del rmse calculado"
   ]
  },
  {
   "cell_type": "markdown",
   "id": "c4a743bf",
   "metadata": {},
   "source": [
    "[04b Prueba de persistencia del estimador](./04_CUSTOM_ESTIMATOR_PICKLE_TEST)\n",
    "\n",
    "Probamos que persistir el estimador fiteado y transformado en el paso anterior funcione adecuadamente  para luego recuperarlo y usarlo en graficos."
   ]
  },
  {
   "cell_type": "markdown",
   "id": "a95be22e",
   "metadata": {},
   "source": [
    "[05 Facebook Prophet](./05_PROPHET.ipynb)\n",
    "\n",
    "Usando la libreria fbProphet, estimamos la serie temporal sobre el retorno Aritmetico, sobre un periodo de 4 meses, testeando contra los dias corrientes del mes de Abril.\n",
    "El concepto de TEST aqui se refiere a si la prediccion de cambio (positivo o negativo) del retorno aritmetico coincide con la realidad de los dis del mes de abril\n",
    "El resultado es poco menos que decepcionante. En Entrenamiento se logra una efectividad del 57% y en Test apenas el 33%"
   ]
  },
  {
   "cell_type": "code",
   "execution_count": null,
   "id": "2cd810ef",
   "metadata": {},
   "outputs": [],
   "source": []
  }
 ],
 "metadata": {
  "kernelspec": {
   "display_name": "Python 3 (ipykernel)",
   "language": "python",
   "name": "python3"
  },
  "language_info": {
   "codemirror_mode": {
    "name": "ipython",
    "version": 3
   },
   "file_extension": ".py",
   "mimetype": "text/x-python",
   "name": "python",
   "nbconvert_exporter": "python",
   "pygments_lexer": "ipython3",
   "version": "3.9.13"
  }
 },
 "nbformat": 4,
 "nbformat_minor": 5
}
