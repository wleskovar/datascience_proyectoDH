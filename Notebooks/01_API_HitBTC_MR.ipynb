{
 "cells": [
  {
   "cell_type": "markdown",
   "id": "5980e12e",
   "metadata": {},
   "source": [
    "## Trabajo final"
   ]
  },
  {
   "cell_type": "markdown",
   "id": "a4bd32a3",
   "metadata": {},
   "source": [
    "Obtencion de los datos de criptomonedas.\n",
    "\n",
    "Usamos el exchanges de cryptos HitBTC, utilizamos la **API** de **demo.hitbtc.com**\n",
    "\n",
    "\n",
    "Acerca de esta API (documentacion):\n",
    "https://api.demo.hitbtc.com/#about-hitbtc-api\n",
    "\n",
    "Vamos a trabajar con el mercado spot (contado) y este exchange opera con casi 400 crytos diferentes."
   ]
  },
  {
   "cell_type": "code",
   "execution_count": 1,
   "id": "f79fb1e2",
   "metadata": {},
   "outputs": [],
   "source": [
    "import requests\n",
    "import pandas as pd"
   ]
  },
  {
   "cell_type": "markdown",
   "id": "5044ea21",
   "metadata": {},
   "source": [
    "Listado de monedas\n",
    "\n",
    "Definimos una funcion para obterner el listado de monedas con las cuales se puede operar."
   ]
  },
  {
   "cell_type": "code",
   "execution_count": 2,
   "id": "a88a5a70",
   "metadata": {},
   "outputs": [],
   "source": [
    "def listaCryptos():\n",
    "    url= 'https://api.hitbtc.com/api/2/public/currency'\n",
    "    r= requests.get(url)\n",
    "    js= r.json()\n",
    "    df= pd.DataFrame(js).set_index('id')\n",
    "    return df"
   ]
  },
  {
   "cell_type": "code",
   "execution_count": 3,
   "id": "dc43b924",
   "metadata": {},
   "outputs": [
    {
     "data": {
      "text/html": [
       "<div>\n",
       "<style scoped>\n",
       "    .dataframe tbody tr th:only-of-type {\n",
       "        vertical-align: middle;\n",
       "    }\n",
       "\n",
       "    .dataframe tbody tr th {\n",
       "        vertical-align: top;\n",
       "    }\n",
       "\n",
       "    .dataframe thead th {\n",
       "        text-align: right;\n",
       "    }\n",
       "</style>\n",
       "<table border=\"1\" class=\"dataframe\">\n",
       "  <thead>\n",
       "    <tr style=\"text-align: right;\">\n",
       "      <th></th>\n",
       "      <th>fullName</th>\n",
       "    </tr>\n",
       "    <tr>\n",
       "      <th>id</th>\n",
       "      <th></th>\n",
       "    </tr>\n",
       "  </thead>\n",
       "  <tbody>\n",
       "    <tr>\n",
       "      <th>DDF</th>\n",
       "      <td>DDF</td>\n",
       "    </tr>\n",
       "    <tr>\n",
       "      <th>ZRX</th>\n",
       "      <td>0x Protocol</td>\n",
       "    </tr>\n",
       "    <tr>\n",
       "      <th>ACO</th>\n",
       "      <td>ACO</td>\n",
       "    </tr>\n",
       "    <tr>\n",
       "      <th>ACT</th>\n",
       "      <td>Achain</td>\n",
       "    </tr>\n",
       "    <tr>\n",
       "      <th>ADX</th>\n",
       "      <td>AdEx</td>\n",
       "    </tr>\n",
       "    <tr>\n",
       "      <th>...</th>\n",
       "      <td>...</td>\n",
       "    </tr>\n",
       "    <tr>\n",
       "      <th>SFP</th>\n",
       "      <td>SafePal</td>\n",
       "    </tr>\n",
       "    <tr>\n",
       "      <th>OM</th>\n",
       "      <td>MANTRA DAO</td>\n",
       "    </tr>\n",
       "    <tr>\n",
       "      <th>PERL</th>\n",
       "      <td>Perlin</td>\n",
       "    </tr>\n",
       "    <tr>\n",
       "      <th>RAMP</th>\n",
       "      <td>RAMP</td>\n",
       "    </tr>\n",
       "    <tr>\n",
       "      <th>LINA</th>\n",
       "      <td>Linear</td>\n",
       "    </tr>\n",
       "  </tbody>\n",
       "</table>\n",
       "<p>790 rows × 1 columns</p>\n",
       "</div>"
      ],
      "text/plain": [
       "         fullName\n",
       "id               \n",
       "DDF           DDF\n",
       "ZRX   0x Protocol\n",
       "ACO           ACO\n",
       "ACT        Achain\n",
       "ADX          AdEx\n",
       "...           ...\n",
       "SFP       SafePal\n",
       "OM     MANTRA DAO\n",
       "PERL       Perlin\n",
       "RAMP         RAMP\n",
       "LINA       Linear\n",
       "\n",
       "[790 rows x 1 columns]"
      ]
     },
     "execution_count": 3,
     "metadata": {},
     "output_type": "execute_result"
    }
   ],
   "source": [
    "cryptos= listaCryptos()\n",
    "cryptos.loc[:,['fullName']]"
   ]
  },
  {
   "cell_type": "code",
   "execution_count": 4,
   "id": "126e94ff",
   "metadata": {},
   "outputs": [],
   "source": [
    "cryptos.reset_index(inplace=True)"
   ]
  },
  {
   "cell_type": "code",
   "execution_count": 5,
   "id": "ce8f690e",
   "metadata": {},
   "outputs": [],
   "source": [
    "pd.set_option('display.max_rows',100)"
   ]
  },
  {
   "cell_type": "code",
   "execution_count": null,
   "id": "fcf0559b",
   "metadata": {},
   "outputs": [],
   "source": []
  },
  {
   "cell_type": "code",
   "execution_count": 6,
   "id": "d9b651fa",
   "metadata": {},
   "outputs": [
    {
     "data": {
      "text/html": [
       "<div>\n",
       "<style scoped>\n",
       "    .dataframe tbody tr th:only-of-type {\n",
       "        vertical-align: middle;\n",
       "    }\n",
       "\n",
       "    .dataframe tbody tr th {\n",
       "        vertical-align: top;\n",
       "    }\n",
       "\n",
       "    .dataframe thead th {\n",
       "        text-align: right;\n",
       "    }\n",
       "</style>\n",
       "<table border=\"1\" class=\"dataframe\">\n",
       "  <thead>\n",
       "    <tr style=\"text-align: right;\">\n",
       "      <th></th>\n",
       "      <th>id</th>\n",
       "      <th>fullName</th>\n",
       "      <th>crypto</th>\n",
       "      <th>payinEnabled</th>\n",
       "      <th>payinPaymentId</th>\n",
       "      <th>payinConfirmations</th>\n",
       "      <th>payoutEnabled</th>\n",
       "      <th>payoutIsPaymentId</th>\n",
       "      <th>transferEnabled</th>\n",
       "      <th>delisted</th>\n",
       "      <th>payoutFee</th>\n",
       "      <th>precisionPayout</th>\n",
       "      <th>precisionTransfer</th>\n",
       "      <th>lowProcessingTime</th>\n",
       "      <th>highProcessingTime</th>\n",
       "      <th>avgProcessingTime</th>\n",
       "    </tr>\n",
       "  </thead>\n",
       "  <tbody>\n",
       "    <tr>\n",
       "      <th>36</th>\n",
       "      <td>BTC</td>\n",
       "      <td>Bitcoin</td>\n",
       "      <td>True</td>\n",
       "      <td>True</td>\n",
       "      <td>False</td>\n",
       "      <td>1</td>\n",
       "      <td>True</td>\n",
       "      <td>False</td>\n",
       "      <td>True</td>\n",
       "      <td>False</td>\n",
       "      <td>0.000900000000</td>\n",
       "      <td>8</td>\n",
       "      <td>8</td>\n",
       "      <td>37.354</td>\n",
       "      <td>2692.176</td>\n",
       "      <td>284.626744680851</td>\n",
       "    </tr>\n",
       "    <tr>\n",
       "      <th>58</th>\n",
       "      <td>ADA</td>\n",
       "      <td>Cardano</td>\n",
       "      <td>True</td>\n",
       "      <td>True</td>\n",
       "      <td>False</td>\n",
       "      <td>10</td>\n",
       "      <td>True</td>\n",
       "      <td>False</td>\n",
       "      <td>True</td>\n",
       "      <td>False</td>\n",
       "      <td>4.470000000000</td>\n",
       "      <td>6</td>\n",
       "      <td>6</td>\n",
       "      <td>7.197</td>\n",
       "      <td>7372.74</td>\n",
       "      <td>243.39714432989692</td>\n",
       "    </tr>\n",
       "    <tr>\n",
       "      <th>131</th>\n",
       "      <td>ETH</td>\n",
       "      <td>Ethereum</td>\n",
       "      <td>True</td>\n",
       "      <td>True</td>\n",
       "      <td>False</td>\n",
       "      <td>9</td>\n",
       "      <td>True</td>\n",
       "      <td>False</td>\n",
       "      <td>True</td>\n",
       "      <td>False</td>\n",
       "      <td>0.011600000000</td>\n",
       "      <td>18</td>\n",
       "      <td>12</td>\n",
       "      <td>1.443</td>\n",
       "      <td>28.17</td>\n",
       "      <td>9.210799999999999</td>\n",
       "    </tr>\n",
       "    <tr>\n",
       "      <th>269</th>\n",
       "      <td>XRP</td>\n",
       "      <td>Ripple</td>\n",
       "      <td>True</td>\n",
       "      <td>True</td>\n",
       "      <td>True</td>\n",
       "      <td>20</td>\n",
       "      <td>True</td>\n",
       "      <td>True</td>\n",
       "      <td>True</td>\n",
       "      <td>False</td>\n",
       "      <td>12.790000000000</td>\n",
       "      <td>6</td>\n",
       "      <td>6</td>\n",
       "      <td>2.305</td>\n",
       "      <td>2696.58</td>\n",
       "      <td>36.11042268041239</td>\n",
       "    </tr>\n",
       "  </tbody>\n",
       "</table>\n",
       "</div>"
      ],
      "text/plain": [
       "      id  fullName  crypto  payinEnabled  payinPaymentId  payinConfirmations  \\\n",
       "36   BTC   Bitcoin    True          True           False                   1   \n",
       "58   ADA   Cardano    True          True           False                  10   \n",
       "131  ETH  Ethereum    True          True           False                   9   \n",
       "269  XRP    Ripple    True          True            True                  20   \n",
       "\n",
       "     payoutEnabled  payoutIsPaymentId  transferEnabled  delisted  \\\n",
       "36            True              False             True     False   \n",
       "58            True              False             True     False   \n",
       "131           True              False             True     False   \n",
       "269           True               True             True     False   \n",
       "\n",
       "           payoutFee  precisionPayout  precisionTransfer lowProcessingTime  \\\n",
       "36    0.000900000000                8                  8            37.354   \n",
       "58    4.470000000000                6                  6             7.197   \n",
       "131   0.011600000000               18                 12             1.443   \n",
       "269  12.790000000000                6                  6             2.305   \n",
       "\n",
       "    highProcessingTime   avgProcessingTime  \n",
       "36            2692.176    284.626744680851  \n",
       "58             7372.74  243.39714432989692  \n",
       "131              28.17   9.210799999999999  \n",
       "269            2696.58   36.11042268041239  "
      ]
     },
     "execution_count": 6,
     "metadata": {},
     "output_type": "execute_result"
    }
   ],
   "source": [
    "mask= (cryptos.id == 'BTC') |(cryptos.id == 'ETH')| (cryptos.id == 'XRP') | (cryptos.id == 'ADA') \n",
    "cryptos[mask]"
   ]
  },
  {
   "cell_type": "markdown",
   "id": "04ddd390",
   "metadata": {},
   "source": [
    "### Obtenemos los precios historicos para una criptomoneda"
   ]
  },
  {
   "cell_type": "markdown",
   "id": "305ab6d5",
   "metadata": {},
   "source": [
    "Los valores que acepta la API para los periodos:\n",
    "\n",
    "<li>M1, 1 minuto\n",
    "<li>M3, 3 minutos\n",
    "<li>M5, 5 minutos\n",
    "<li>M15, 15 minutos\n",
    "<li>M30, 30 minutos\n",
    "<li>H1, 1 hora\n",
    "<li>H4, 4 horas\n",
    "<li>D1, 1 dia\n",
    "<li>D7, 7 dias\n",
    "<li>1M, 1 mes"
   ]
  },
  {
   "cell_type": "code",
   "execution_count": 7,
   "id": "ce9a3749",
   "metadata": {},
   "outputs": [],
   "source": [
    "# funcion para traer las velas de la criptomoneda a traves de la API del exchange\n",
    "# sort values= 'DESC' o 'ASC'\n",
    "def getVelas(crypto, periodo, desde, hasta, limite=1000, sort='ASC'):\n",
    "    url= \"https://api.hitbtc.com/api/2/public/candles\"\n",
    "    p= {'limit':limite, 'symbols': crypto, 'from': desde, 'till': hasta,\n",
    "        'period':periodo,'sort': sort}\n",
    "    r= requests.get(url, params= p)\n",
    "    js= r.json()[crypto]\n",
    "    df= pd.DataFrame(js)\n",
    "    df['crypto']= crypto\n",
    "    return df"
   ]
  },
  {
   "cell_type": "markdown",
   "id": "7cd68163",
   "metadata": {},
   "source": [
    "- EL proceso esta armado con extraccion diaria, las cryptos se eligen en la lista_cryptos y los periodos en lista_desde y lista_hasta"
   ]
  },
  {
   "cell_type": "code",
   "execution_count": 8,
   "id": "4b1b4149",
   "metadata": {},
   "outputs": [],
   "source": [
    "# bajar del exchange los datos de las criptomonedas seleccionadas\n",
    "lista_cryptos= ['BTCUSD','ETHUSD','ADAUSD']\n",
    "lista_desde = ['2013-01-01','2014-01-01','2015-01-01','2016-01-01','2017-01-01',\n",
    "               '2018-01-01','2019-01-01','2020-01-01','2021-01-01']\n",
    "lista_hasta = ['2013-12-31','2014-12-31','2015-12-31','2016-12-31','2017-12-31',\n",
    "               '2018-12-31','2019-12-31','2020-12-31','2021-12-31']\n",
    "\n",
    "# el desde es a partir de que fecha trae las velas\n",
    "# el hasta es la fecha hasta la que se trae los valores hasta el valor limite que por\n",
    "# default que es 1.000. Mil es le maximo de datos que trae esta demo API\n",
    "i= 0\n",
    "for c in lista_cryptos: \n",
    "    for ix in range(len(lista_desde)):\n",
    "        if i== 0:\n",
    "            datos= getVelas(c, 'D1', desde=lista_desde[ix], hasta=lista_hasta[ix])\n",
    "            i =  i + 1\n",
    "        else:\n",
    "            datos= datos.append(getVelas(c, 'D1', desde=lista_desde[ix], hasta=lista_hasta[ix]),\n",
    "                   ignore_index=True)\n",
    "        "
   ]
  },
  {
   "cell_type": "markdown",
   "id": "3ebb90a2",
   "metadata": {},
   "source": [
    "- Guardamos la extraccion en nuestro archivo de velas"
   ]
  },
  {
   "cell_type": "code",
   "execution_count": 9,
   "id": "c9f2848e",
   "metadata": {},
   "outputs": [],
   "source": [
    "datos_path= '../Datos/'\n",
    "file= 'velas_cryptos'\n",
    "extencion= '.csv'\n",
    "datos.to_csv(datos_path+file+extencion, sep=',', index=False)"
   ]
  },
  {
   "cell_type": "code",
   "execution_count": null,
   "id": "0dd21911",
   "metadata": {},
   "outputs": [],
   "source": []
  },
  {
   "cell_type": "code",
   "execution_count": null,
   "id": "ccb7717c",
   "metadata": {},
   "outputs": [],
   "source": []
  }
 ],
 "metadata": {
  "kernelspec": {
   "display_name": "Python 3",
   "language": "python",
   "name": "python3"
  },
  "language_info": {
   "codemirror_mode": {
    "name": "ipython",
    "version": 3
   },
   "file_extension": ".py",
   "mimetype": "text/x-python",
   "name": "python",
   "nbconvert_exporter": "python",
   "pygments_lexer": "ipython3",
   "version": "3.8.5"
  }
 },
 "nbformat": 4,
 "nbformat_minor": 5
}
